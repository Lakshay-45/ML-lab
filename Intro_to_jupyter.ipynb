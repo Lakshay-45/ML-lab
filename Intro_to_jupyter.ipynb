{
 "cells": [
  {
   "cell_type": "markdown",
   "id": "993736a9-a446-4db8-8e75-c5b848958327",
   "metadata": {},
   "source": [
    "# Introduction to Jupyter\n",
    "This notebook explores basic and advanced features of Jupyter Notebooks, including Markdown formatting, code execution, data visualization, widgets, and extensions."
   ]
  },
  {
   "cell_type": "markdown",
   "id": "4e0ec3b7-3429-4e64-97ed-ed89293fddb0",
   "metadata": {},
   "source": [
    "## What is Jupyter Notebook?\n",
    "Jupyter is an open-source web application that allows users to create and share documents that contain live code, equations, visualizations, and narrative text. This can help us run blocks of code, in a divided fashion, keeping the code that was ran earlier in memort, in the sequence we run it.\n"
   ]
  },
  {
   "cell_type": "code",
   "execution_count": null,
   "id": "69120b70-08d2-4a3e-8e5b-5e0342bc1980",
   "metadata": {},
   "outputs": [],
   "source": [
    "2 + 2\n"
   ]
  },
  {
   "cell_type": "markdown",
   "id": "7df93a05-fae2-4a8f-9064-aced03efa524",
   "metadata": {},
   "source": [
    "#### Toolbar\n",
    "We can use the buttons in toolbar, to add, delete or modify the type of cell that we are working with."
   ]
  },
  {
   "cell_type": "markdown",
   "id": "83113513-ac28-4463-a629-9bcb36298bdc",
   "metadata": {},
   "source": [
    "### My Markdown Practice\n",
    "This is **bold**, this is _italic_, and this is `inline code`.\n"
   ]
  },
  {
   "cell_type": "markdown",
   "id": "7991c376-62b4-448b-be2f-be8860b95f71",
   "metadata": {},
   "source": [
    "### Images and links\n",
    "![Python Logo](https://www.python.org/static/community_logos/python-logo.png)\n",
    "\n",
    "[Google](https://www.google.com)\n"
   ]
  },
  {
   "cell_type": "markdown",
   "id": "d81ae6b3-6ecf-4260-82e9-72bcc5420e18",
   "metadata": {},
   "source": [
    "### My Favorite Programming Languages\n",
    "- Python\n",
    "- Java\n",
    "- C++\n",
    "- C\n"
   ]
  },
  {
   "cell_type": "code",
   "execution_count": null,
   "id": "a48fe82d-669e-47b4-bdb6-d975402b79ff",
   "metadata": {},
   "outputs": [],
   "source": [
    "def factorial(n):\n",
    "    if n < 0:\n",
    "        return \"Invalid input\"\n",
    "    elif n == 0:\n",
    "        return 1\n",
    "    else:\n",
    "        result = 1\n",
    "        for i in range(1, n + 1):\n",
    "            result *= i\n",
    "        return result\n"
   ]
  },
  {
   "cell_type": "code",
   "execution_count": null,
   "id": "8a393d1e-0e7a-476e-9a67-01fe93b4d6ba",
   "metadata": {},
   "outputs": [],
   "source": [
    "print(factorial(5))\n",
    "print(factorial(0))\n",
    "print(factorial(-3))\n"
   ]
  },
  {
   "cell_type": "code",
   "execution_count": null,
   "id": "541b32cb-4b97-4575-86ca-ddc8004719cb",
   "metadata": {},
   "outputs": [],
   "source": [
    "import numpy as np\n",
    "\n",
    "data = [10, 20, 30, 40, 50]\n",
    "print(\"Mean:\", np.mean(data))\n",
    "print(\"Median:\", np.median(data))"
   ]
  },
  {
   "cell_type": "code",
   "execution_count": null,
   "id": "2809f099-4348-41d9-939a-90740126fcd7",
   "metadata": {},
   "outputs": [],
   "source": [
    "import matplotlib.pyplot as plt\n",
    "\n",
    "x = np.linspace(0, 10, 100)\n",
    "y = np.sin(x)\n",
    "\n",
    "plt.plot(x, y)\n",
    "plt.title(\"Sine Wave\")\n",
    "plt.xlabel(\"X Axis\")\n",
    "plt.ylabel(\"Y Axis\")\n",
    "plt.grid(True)\n",
    "plt.show()"
   ]
  },
  {
   "cell_type": "markdown",
   "id": "2006036d-0b7c-4521-83f7-8eb2d2302c3f",
   "metadata": {},
   "source": [
    "#### What is a kernel?\n",
    "A kernel is the computational engine that executes the code in your notebook."
   ]
  },
  {
   "cell_type": "markdown",
   "id": "78320bb1-b87e-43ff-bffd-c66e8248fc61",
   "metadata": {},
   "source": [
    "#### What output formart to use when?\n",
    "- Use PDF for formal submission or print\n",
    "- Use HTML for interactive viewing online\n",
    "- Use Slides when presenting to others"
   ]
  },
  {
   "cell_type": "code",
   "execution_count": null,
   "id": "e4845e9f-83b1-45a0-a571-6b28b011d027",
   "metadata": {},
   "outputs": [],
   "source": []
  }
 ],
 "metadata": {
  "kernelspec": {
   "display_name": "Python 3 (ipykernel)",
   "language": "python",
   "name": "python3"
  },
  "language_info": {
   "codemirror_mode": {
    "name": "ipython",
    "version": 3
   },
   "file_extension": ".py",
   "mimetype": "text/x-python",
   "name": "python",
   "nbconvert_exporter": "python",
   "pygments_lexer": "ipython3",
   "version": "3.12.7"
  }
 },
 "nbformat": 4,
 "nbformat_minor": 5
}
